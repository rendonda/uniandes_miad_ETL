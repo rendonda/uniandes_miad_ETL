{
 "cells": [
  {
   "cell_type": "markdown",
   "metadata": {},
   "source": [
    "When opening VSC:\n",
    "Select kernel: ~\\miniconda3\\envs\\data_ETL\\python.exe\n",
    "\n",
    "To activate virtual environment in the Anaconda Command Prompt, first navigate to the directory where your virtual environment is located\n",
    "\n",
    "cd C:\\Users\\dalila.rendon\\Documents\\data_ETL\n",
    "\n",
    "Then, to activate it, enter (in front of the path):\n",
    "\n",
    "conda activate data_ETL\n",
    "\n",
    "You will see that it is activated when it looks like this:\n",
    "\n",
    "(data_ETL) C:\\Users\\dalila.rendon\\Documents\\data_ETL>\n",
    "\n",
    "To install packages, first try\n",
    "\n",
    "conda install <package_name>\n",
    "\n",
    "If that fails, try\n",
    "\n",
    "pip install <package_name>\n"
   ]
  },
  {
   "cell_type": "code",
   "execution_count": 1,
   "metadata": {},
   "outputs": [],
   "source": [
    "#Set working directory\n",
    "import os\n",
    "os.chdir(r\"C:\\Users\\dalila.rendon\\Documents\\data_ETL\")"
   ]
  },
  {
   "cell_type": "code",
   "execution_count": 2,
   "metadata": {},
   "outputs": [],
   "source": [
    "import pandas as pd"
   ]
  },
  {
   "cell_type": "markdown",
   "metadata": {},
   "source": [
    "To push into my personal Git:\n",
    "\n",
    "Go to Linux terminal and type:\n",
    "\n",
    "cd /mnt/c/Users/dalila.rendon/Documents/data_ETL/uniandes_miad_ETL\n",
    "\n",
    "git status\n",
    "\n",
    "git add\n",
    "\n",
    "git commit -m\n",
    "\n",
    "git push"
   ]
  }
 ],
 "metadata": {
  "interpreter": {
   "hash": "d18f8583b9ba289f94cb2f7795cca7989af9744a611577d22144ae84ebc817d0"
  },
  "kernelspec": {
   "display_name": "Python 3.9.7 64-bit ('data_ETL': conda)",
   "name": "python3"
  },
  "language_info": {
   "codemirror_mode": {
    "name": "ipython",
    "version": 3
   },
   "file_extension": ".py",
   "mimetype": "text/x-python",
   "name": "python",
   "nbconvert_exporter": "python",
   "pygments_lexer": "ipython3",
   "version": "3.9.7"
  },
  "orig_nbformat": 4
 },
 "nbformat": 4,
 "nbformat_minor": 2
}
