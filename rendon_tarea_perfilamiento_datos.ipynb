{
 "cells": [
  {
   "cell_type": "code",
   "execution_count": 7,
   "metadata": {},
   "outputs": [],
   "source": [
    "#Set working directory\n",
    "import os\n",
    "os.chdir(r\"C:\\Users\\dalila.rendon\\Documents\\data_ETL\")"
   ]
  },
  {
   "cell_type": "code",
   "execution_count": 8,
   "metadata": {},
   "outputs": [],
   "source": [
    "# importar paquetes\n",
    "import pandas as pd\n",
    "import numpy as np\n",
    "import matplotlib\n",
    "from pyspark.sql import SparkSession\n",
    "from pyspark.sql import functions\n",
    "from pyspark.sql.types import StructType\n",
    "from pyspark import SparkContext, SparkConf, SQLContext\n",
    "from pyspark.sql.types import FloatType\n",
    "from pyspark.sql.functions import udf"
   ]
  },
  {
   "cell_type": "code",
   "execution_count": 9,
   "metadata": {},
   "outputs": [],
   "source": [
    "#esto es solo para comprobar que las instalaciones estaban en el venv ya que tuve problemas al principio\n",
    "#print(os.getenv(\"JAVA_HOME\"))\n",
    "#print(os.getenv(\"SPARK_HOME\"))"
   ]
  },
  {
   "cell_type": "code",
   "execution_count": 10,
   "metadata": {},
   "outputs": [],
   "source": [
    "# create spark session\n",
    "spark = SparkSession.builder.appName('tutorial pyspark').getOrCreate()"
   ]
  },
  {
   "cell_type": "code",
   "execution_count": 11,
   "metadata": {},
   "outputs": [],
   "source": [
    "# nombrar los dos archivos de datos que se van a utilizar\n",
    "PATH= \"Recursos\\\\Infraestructura visible\\\\Etapa 1\\\\\"\n",
    "aeropuertos = spark.read.load(PATH+\"aeropuertos.csv\",format=\"csv\", sep=\",\", inferSchema=\"true\", header=\"true\")\n",
    "vuelos = spark.read.load(PATH+\"vuelos.csv\",format=\"csv\", sep=\",\", inferSchema=\"true\", header=\"true\")"
   ]
  },
  {
   "cell_type": "markdown",
   "metadata": {},
   "source": [
    "# Parte 1: informacion general"
   ]
  },
  {
   "cell_type": "markdown",
   "metadata": {},
   "source": [
    "Acorde con las instrucciones, tenemos dos archivos para utilizar: aeropuertos.csv, y vuelos.csv. Es dificil entender lo que significan muchas de las categorias en estos archivos, y para esto es necesario el archivo diccionarios.xlsx. **nota**: yo ya habia resuelto la mayoria de los puntos antes de saber que diccionario.xlsx era tambien parte de lo que teniamos disponible, asi que las respuestas aca son asumiendo que no he visto el archivo diccionario.xlsx. "
   ]
  },
  {
   "cell_type": "code",
   "execution_count": 54,
   "metadata": {},
   "outputs": [
    {
     "name": "stdout",
     "output_type": "stream",
     "text": [
      "DataFrame[_c0: int, sigla: string, iata: string, nombre: string, municipio: string, departamento: string, categoria: string, latitud: double, longitud: double, propietario: string, explotador: string, longitud_pista: double, ancho_pista: double, pbmo: string, elevacion: double, resolucion: string, fecha_construccion: string, fecha_vigencia: string, clase: string, tipo: string, numero_vuelos_origen: string, gcd_departamento: int, gcd_municipio: int]\n",
      "DataFrame[ano: int, mes: int, origen: string, destino: string, tipo_equipo: string, tipo_vuelo: string, trafico: string, empresa: string, vuelos: string, sillas: string, carga_ofrecida: double, pasajeros: string, carga_bordo: double]\n"
     ]
    }
   ],
   "source": [
    "# Para explorar el tipo de variables que hay en vuelos y aeropuertos, y saber cuales son numericas o categoricas\n",
    "print(aeropuertos)\n",
    "print(vuelos)"
   ]
  },
  {
   "cell_type": "markdown",
   "metadata": {},
   "source": [
    "# Parte 2: Perfilamiento de datos para cada analisis"
   ]
  },
  {
   "cell_type": "markdown",
   "metadata": {},
   "source": [
    "## 1) Visualizar el número de pasajeros transportados en un rango de fechas de aeropuertos Internacionales a Colombia"
   ]
  },
  {
   "cell_type": "markdown",
   "metadata": {},
   "source": [
    "**Nota**: aqui estoy asumiendo que cuando dicen \"aeropuertos internacionales\" se refieren a aeropuertos con categoria internacional, no a aeropuertos en el exterior. No hay informacion sobre vuelos provenientes del exterior hacia Colombia. \n",
    "\n",
    "Con respecto a un rango de fechas, estoy asumiendo que quieren el total dentro de un rango de fechas, y no el mes a mes en un rango de fechas seleccionado (lo cual tambien se podria hacer, pero se necesitarian otros comandos). Esto aplica para todos los analisis de aqui en adelante. "
   ]
  },
  {
   "cell_type": "code",
   "execution_count": 12,
   "metadata": {},
   "outputs": [],
   "source": [
    "# Filtrar archivo de aeropuertos para mostrar una columna con sigla y la categoria e ignorar la otra informacion (esto lo hago para que al momento de unir tablas no haya un monton de informacion irrelevante y sea mas facil visualizarlas)\n",
    "aeropuertos_categorias_origen = aeropuertos.select(aeropuertos.sigla.alias(\"origen_sigla\"), aeropuertos.categoria.alias(\"origen_categoria\"))\n",
    "\n",
    "aeropuertos_categorias_destino = aeropuertos.select(aeropuertos.sigla.alias(\"destino_sigla\"), aeropuertos.categoria.alias(\"destino_categoria\"))\n",
    "\n",
    "# Unir la tabla de vuelos con aeropuertos utilizando la columna \"sigla\" como llave, e incluir nuevas columnas que indiquen si el origen y el destino son internacionales o no. El archivo de vuelos no indica si los vuelos son internacionales o no y por eso es necesario obtener esta informacion del archivo de aeropuertos. \n",
    "join_vuelos_aeropuertos = vuelos.join(aeropuertos_categorias_origen,vuelos.origen == aeropuertos_categorias_origen.origen_sigla, \"inner\") \\\n",
    "    .join(aeropuertos_categorias_destino,vuelos.destino == aeropuertos_categorias_destino.destino_sigla, \"inner\") \n",
    "\n",
    "# Exportar como .csv para utilizar en futuros analisis\n",
    "join_vuelos_aeropuertos.toPandas().to_csv(PATH+'join_vuelos_aeropuertos.csv')"
   ]
  },
  {
   "cell_type": "code",
   "execution_count": 13,
   "metadata": {},
   "outputs": [],
   "source": [
    "# Filtrar por aeropuertos origen internacional a aeropuertos destino no internacional (Colombia), en un rango de fechas solo del 2013 (puede ser cualquier otro ano o rango de fechas)\n",
    "df_filter= join_vuelos_aeropuertos.where((join_vuelos_aeropuertos.origen_categoria == \"Internacional\")& (join_vuelos_aeropuertos.destino_categoria != \"Internacional\")&(join_vuelos_aeropuertos.ano == \"2013\")) "
   ]
  },
  {
   "cell_type": "code",
   "execution_count": 14,
   "metadata": {},
   "outputs": [
    {
     "data": {
      "text/plain": [
       "DataFrame[ano: int, mes: int, origen: string, destino: string, tipo_equipo: string, tipo_vuelo: string, trafico: string, empresa: string, vuelos: string, sillas: string, carga_ofrecida: double, pasajeros: string, carga_bordo: double, origen_sigla: string, origen_categoria: string, destino_sigla: string, destino_categoria: string]"
      ]
     },
     "execution_count": 14,
     "metadata": {},
     "output_type": "execute_result"
    }
   ],
   "source": [
    "#print(df_filter.schema)\n",
    "#df_filter.show()\n",
    "df_filter"
   ]
  },
  {
   "cell_type": "markdown",
   "metadata": {},
   "source": [
    "Al examinar la columna de pasajeros, vemos que es tipo \"string\", lo que sugiere que hay datos que no son numericos. Al mirar mas detalladamente, hay valores \"nan\", por lo que hay que eliminar estos valores, y luego transformar la variable a float"
   ]
  },
  {
   "cell_type": "code",
   "execution_count": 15,
   "metadata": {},
   "outputs": [
    {
     "name": "stdout",
     "output_type": "stream",
     "text": [
      "534\n",
      "0\n"
     ]
    }
   ],
   "source": [
    "# contar valores \"nan\" y valores nulos\n",
    "print(df_filter.select('pasajeros').where(df_filter.pasajeros == \"nan\").count())\n",
    "print(df_filter.select('pasajeros').where(df_filter.pasajeros == \"\").count())\n",
    "#df1.select(count(when(isnan(pasajeros))"
   ]
  },
  {
   "cell_type": "markdown",
   "metadata": {},
   "source": [
    "No existen valores nulos (casillas en blanco), pero hay 534 nan (valoresno disponibles),que vamos a eliminar para el analisis. \n",
    "\n",
    "**Nota**: Hay varias maneras de lidiar con valores nulos y nan, por ejemplo reemplazarlos por el promedio, o asignarles valor \"0\". Si la distribucion es normal, reemplazar por promedio es una buena opcion, pero aqui calcular la distribucion de los datos implica analisis extras, y cuando estan sesgados el promedio no es un  buen representativo. De aqui en adelante optamos por eliminar los valores nulos de todos los analisis. "
   ]
  },
  {
   "cell_type": "code",
   "execution_count": 16,
   "metadata": {},
   "outputs": [
    {
     "data": {
      "text/plain": [
       "DataFrame[ano: int, mes: int, origen: string, destino: string, tipo_equipo: string, tipo_vuelo: string, trafico: string, empresa: string, vuelos: string, sillas: string, carga_ofrecida: double, pasajeros: float, carga_bordo: double, origen_sigla: string, origen_categoria: string, destino_sigla: string, destino_categoria: string]"
      ]
     },
     "execution_count": 16,
     "metadata": {},
     "output_type": "execute_result"
    }
   ],
   "source": [
    "# Eliminar \"nan\" y transformar \"pasajeros\" a float\n",
    "df_pasajeros= df_filter.where(df_filter.pasajeros != 'nan') \\\n",
    "    .withColumn(\"pasajeros\",df_filter[\"pasajeros\"].cast(FloatType()))\n",
    "\n",
    "#df_pasajeros.show()\n",
    "df_pasajeros"
   ]
  },
  {
   "cell_type": "code",
   "execution_count": 17,
   "metadata": {},
   "outputs": [
    {
     "name": "stdout",
     "output_type": "stream",
     "text": [
      "+-------+------------------+\n",
      "|summary|         pasajeros|\n",
      "+-------+------------------+\n",
      "|  count|              9490|\n",
      "|   mean|  490.263751317176|\n",
      "| stddev|1233.0732813720697|\n",
      "|    min|               0.0|\n",
      "|    25%|               2.0|\n",
      "|    50%|              12.0|\n",
      "|    75%|             252.0|\n",
      "|    max|           11688.0|\n",
      "+-------+------------------+\n",
      "\n"
     ]
    }
   ],
   "source": [
    "# mostrar numero de registros, promedio, mediana, deviacion standar, minima y maxima\n",
    "df_pasajeros.select('pasajeros').summary().show()"
   ]
  },
  {
   "cell_type": "code",
   "execution_count": 18,
   "metadata": {},
   "outputs": [
    {
     "name": "stdout",
     "output_type": "stream",
     "text": [
      "+--------------+\n",
      "|sum(pasajeros)|\n",
      "+--------------+\n",
      "|     4652603.0|\n",
      "+--------------+\n",
      "\n"
     ]
    }
   ],
   "source": [
    "# calcular el numero total de pasajeros transportados\n",
    "df_pasajeros.agg(functions.sum(\"pasajeros\")).show()"
   ]
  },
  {
   "cell_type": "code",
   "execution_count": 19,
   "metadata": {},
   "outputs": [
    {
     "data": {
      "image/png": "[encoded data removed]",
      "text/plain": [
       "<Figure size 432x288 with 1 Axes>"
      ]
     },
     "metadata": {
      "needs_background": "light"
     },
     "output_type": "display_data"
    }
   ],
   "source": [
    "# Histograma de numero de pasajeros\n",
    "# transformar a pandas\n",
    "df_pasajeros_pd= df_pasajeros.toPandas()\n",
    "df_pasajeros_pd.hist(column='pasajeros')\n",
    "# exportar dataframe procesado como .csv\n",
    "df_pasajeros_pd.to_csv(PATH+'pasajeros_procesada.csv')\n",
    "\n",
    "# el codigo con pyspark no funciona ¯\\_(ツ)_/¯\n",
    "#histo_pasajeros = df1.select('pasajeros').rdd.flatMap(lambda x: x).histogram(10)\n",
    "#print()"
   ]
  },
  {
   "cell_type": "markdown",
   "metadata": {},
   "source": [
    "Para visualizar el numero de pasajeros por mes en el ano aqui seleccionado, se puede hacer aqui mismo con los paquetes instalados, o creando un tablero de control en Power BI con el archivo que se exporto \"pasajeros_procesada.csv\""
   ]
  },
  {
   "cell_type": "markdown",
   "metadata": {},
   "source": [
    "## 2) Visualizar la carga transportada en un rango de fechas de aeropuertos Internacionales a Colombia "
   ]
  },
  {
   "cell_type": "code",
   "execution_count": 20,
   "metadata": {},
   "outputs": [
    {
     "name": "stdout",
     "output_type": "stream",
     "text": [
      "0\n",
      "0\n"
     ]
    }
   ],
   "source": [
    "# contar valores \"nan\" y valores nulos\n",
    "print(df_filter.select('carga_bordo').where(df_filter.carga_bordo == \"nan\").count())\n",
    "print(df_filter.select('carga_bordo').where(df_filter.carga_bordo == \"\").count())\n",
    "#df1.select(count(when(isnan(pasajeros))"
   ]
  },
  {
   "cell_type": "markdown",
   "metadata": {},
   "source": [
    "En el caso de carga a bordo, no hay valores nulos ni nan. Segun se observa en un analisis anterior, la categoria \"carga_bordo\" es un double, entonces no hay necesidad de transformar a numerico. "
   ]
  },
  {
   "cell_type": "code",
   "execution_count": 21,
   "metadata": {},
   "outputs": [
    {
     "name": "stdout",
     "output_type": "stream",
     "text": [
      "+-------+-----------------+\n",
      "|summary|      carga_bordo|\n",
      "+-------+-----------------+\n",
      "|  count|            10024|\n",
      "|   mean|2719.570672386273|\n",
      "| stddev|9502.228129945468|\n",
      "|    min|              0.0|\n",
      "|    25%|              0.0|\n",
      "|    50%|            100.0|\n",
      "|    75%|           1238.0|\n",
      "|    max|         236306.0|\n",
      "+-------+-----------------+\n",
      "\n"
     ]
    }
   ],
   "source": [
    "# mostrar numero de registros, promedio, mediana, deviacion standar, minima y maxima\n",
    "df_filter.select('carga_bordo').summary().show()"
   ]
  },
  {
   "cell_type": "code",
   "execution_count": 22,
   "metadata": {},
   "outputs": [
    {
     "name": "stdout",
     "output_type": "stream",
     "text": [
      "+----------------+\n",
      "|sum(carga_bordo)|\n",
      "+----------------+\n",
      "|   2.726097642E7|\n",
      "+----------------+\n",
      "\n"
     ]
    }
   ],
   "source": [
    "# calcular el numero total de carga transportada\n",
    "df_filter.agg(functions.sum(\"carga_bordo\")).show()"
   ]
  },
  {
   "cell_type": "code",
   "execution_count": 23,
   "metadata": {},
   "outputs": [
    {
     "data": {
      "text/plain": [
       "array([[<AxesSubplot:title={'center':'carga_bordo'}>]], dtype=object)"
      ]
     },
     "execution_count": 23,
     "metadata": {},
     "output_type": "execute_result"
    },
    {
     "data": {
      "image/png": "[encoded data removed]",
      "text/plain": [
       "<Figure size 432x288 with 1 Axes>"
      ]
     },
     "metadata": {
      "needs_background": "light"
     },
     "output_type": "display_data"
    }
   ],
   "source": [
    "# Histograma de numero de carga a bordo\n",
    "# transformar a pandas\n",
    "df_filter_pd= df_filter.toPandas()\n",
    "df_filter_pd.hist(column='carga_bordo')"
   ]
  },
  {
   "cell_type": "markdown",
   "metadata": {},
   "source": [
    "De acuerdo con la tabla resumen y el histograma, es extrano que haya un dato extremo hacia la derecha (valor maximo), el cual es muy alto comparado con la mediana. Es posible que este sea un \"outlier\" correctamente registrado, o un error al momento de entrar los datos que toca revisar"
   ]
  },
  {
   "cell_type": "markdown",
   "metadata": {},
   "source": [
    "## 3) Visualizar la carga desaprovechada en un rango de fechas de aeropuertos Internacionales a Colombia "
   ]
  },
  {
   "cell_type": "markdown",
   "metadata": {},
   "source": [
    "Anteriormente ya habiamos revisado que la categoria \"carga_bordo\" no tiene valores nulos ni nan, toca revisar lo mismo con \"carga ofrecida\" "
   ]
  },
  {
   "cell_type": "code",
   "execution_count": 55,
   "metadata": {},
   "outputs": [
    {
     "name": "stdout",
     "output_type": "stream",
     "text": [
      "0\n",
      "0\n"
     ]
    }
   ],
   "source": [
    "# contar valores \"nan\" y valores nulos\n",
    "print(df_filter.select('carga_ofrecida').where(df_filter.carga_ofrecida == \"nan\").count())\n",
    "print(df_filter.select('carga_ofrecida').where(df_filter.carga_ofrecida == \"\").count())"
   ]
  },
  {
   "cell_type": "markdown",
   "metadata": {},
   "source": [
    "Hay que anadir un nuevo campo al dataframe que indique la carga desaprovechada, que seria carga_ofrecida - carga_bordo (ambas son valores tipo doubles)"
   ]
  },
  {
   "cell_type": "code",
   "execution_count": 24,
   "metadata": {},
   "outputs": [],
   "source": [
    "# Eliminar valores nulos o nan\n",
    "df_carga= df_filter.where((df_filter.carga_ofrecida != 'nan') & (df_filter.carga_bordo != 'nan'))"
   ]
  },
  {
   "cell_type": "code",
   "execution_count": 25,
   "metadata": {},
   "outputs": [],
   "source": [
    "# anadir una nueva columna \"carga_des\"\n",
    "df_carga= df_carga.withColumn(\"carga_des\", df_carga.carga_ofrecida-df_carga.carga_bordo)"
   ]
  },
  {
   "cell_type": "code",
   "execution_count": 26,
   "metadata": {},
   "outputs": [],
   "source": [
    "# Opcional: Eliminar los valores negativos (en los que la carga transportada fue mayor a la carga ofrecida)\n",
    "#df_carga= df_carga.where((df_carga.carga_des > 0))"
   ]
  },
  {
   "cell_type": "code",
   "execution_count": 27,
   "metadata": {},
   "outputs": [
    {
     "name": "stdout",
     "output_type": "stream",
     "text": [
      "+-------+------------------+\n",
      "|summary|         carga_des|\n",
      "+-------+------------------+\n",
      "|  count|             10024|\n",
      "|   mean|18054.661581205106|\n",
      "| stddev| 58155.60203912821|\n",
      "|    min|         -236306.0|\n",
      "|    25%|            -100.0|\n",
      "|    50%|               0.0|\n",
      "|    75%|            7988.0|\n",
      "|    max|         1081443.0|\n",
      "+-------+------------------+\n",
      "\n"
     ]
    }
   ],
   "source": [
    "# mostrar numero de registros, promedio, mediana, deviacion standar, minima y maxima\n",
    "df_carga.select('carga_des').summary().show()"
   ]
  },
  {
   "cell_type": "code",
   "execution_count": 28,
   "metadata": {},
   "outputs": [
    {
     "name": "stdout",
     "output_type": "stream",
     "text": [
      "+--------------------+\n",
      "|      sum(carga_des)|\n",
      "+--------------------+\n",
      "|1.8097992768999997E8|\n",
      "+--------------------+\n",
      "\n"
     ]
    }
   ],
   "source": [
    "# calcular el numero total de carga desaprovechada\n",
    "df_carga.agg(functions.sum(\"carga_des\")).show()"
   ]
  },
  {
   "cell_type": "code",
   "execution_count": 29,
   "metadata": {},
   "outputs": [
    {
     "data": {
      "text/plain": [
       "array([[<AxesSubplot:title={'center':'carga_des'}>]], dtype=object)"
      ]
     },
     "execution_count": 29,
     "metadata": {},
     "output_type": "execute_result"
    },
    {
     "data": {
      "image/png": "[encoded data removed]",
      "text/plain": [
       "<Figure size 432x288 with 1 Axes>"
      ]
     },
     "metadata": {
      "needs_background": "light"
     },
     "output_type": "display_data"
    }
   ],
   "source": [
    "# Histograma de numero de carga desaprovechada\n",
    "# transformar a pandas\n",
    "df_carga_pd= df_carga.toPandas()\n",
    "df_carga_pd.hist(column='carga_des')"
   ]
  },
  {
   "cell_type": "markdown",
   "metadata": {},
   "source": [
    "En este caso se puede ver que hay ambos casos de carga desaprovechada (valores mayores a cero), y casos en los que la carga a bordo fue mayor que la oferta. Idealmente estos valores deberian ser cercanos a cero para que la oferta y la demanda sean similares, y valores muy altos son indeseables ya que hay demasiada oferta"
   ]
  },
  {
   "cell_type": "markdown",
   "metadata": {},
   "source": [
    "## 4) Visualizar el número de puestos desaprovechados en un rango de fechas de aeropuertos Internacionales a Colombia "
   ]
  },
  {
   "cell_type": "markdown",
   "metadata": {},
   "source": [
    "Hay que anadir un nuevo campo al dataframe que indique los puestos desaprovechados, que seria sillas - pasajeros (ambas son valores tipo doubles)"
   ]
  },
  {
   "cell_type": "code",
   "execution_count": 30,
   "metadata": {},
   "outputs": [
    {
     "name": "stdout",
     "output_type": "stream",
     "text": [
      "591\n",
      "0\n",
      "534\n",
      "0\n"
     ]
    }
   ],
   "source": [
    "# contar valores \"nan\" y valores nulos\n",
    "print(df_filter.select('sillas').where(df_filter.sillas == \"nan\").count())\n",
    "print(df_filter.select('sillas').where(df_filter.sillas == \"\").count())\n",
    "print(df_filter.select('pasajeros').where(df_filter.pasajeros == \"nan\").count())\n",
    "print(df_filter.select('pasajeros').where(df_filter.pasajeros == \"\").count())"
   ]
  },
  {
   "cell_type": "markdown",
   "metadata": {},
   "source": [
    "Ya que los datos en sillas y pasajeros no estan completos y hay valores nulos, estos los vamos a eliminar del analisis"
   ]
  },
  {
   "cell_type": "code",
   "execution_count": 31,
   "metadata": {},
   "outputs": [],
   "source": [
    "# Eliminar \"nan\" y transformar \"pasajeros\" y \"sillas\" a float\n",
    "df_puestos= df_filter.where((df_filter.pasajeros != 'nan') & (df_filter.sillas != 'nan'))  \\\n",
    "    .withColumn(\"pasajeros\",df_filter[\"pasajeros\"].cast(FloatType())) \\\n",
    "    .withColumn(\"sillas\",df_filter[\"sillas\"].cast(FloatType()))  "
   ]
  },
  {
   "cell_type": "code",
   "execution_count": 32,
   "metadata": {},
   "outputs": [
    {
     "data": {
      "text/plain": [
       "DataFrame[ano: int, mes: int, origen: string, destino: string, tipo_equipo: string, tipo_vuelo: string, trafico: string, empresa: string, vuelos: string, sillas: float, carga_ofrecida: double, pasajeros: float, carga_bordo: double, origen_sigla: string, origen_categoria: string, destino_sigla: string, destino_categoria: string]"
      ]
     },
     "execution_count": 32,
     "metadata": {},
     "output_type": "execute_result"
    }
   ],
   "source": [
    "#Examinar el tipo de variables y confirmar que las variables que originalmente eran \"string\" ahora sean numericas\n",
    "df_puestos"
   ]
  },
  {
   "cell_type": "code",
   "execution_count": 33,
   "metadata": {},
   "outputs": [],
   "source": [
    "# anadir una nueva columna \"puestos_des\" que es la diferencia entre las sillas disponibles y el numero de pasajeros\n",
    "df_puestos= df_puestos.withColumn(\"puestos_des\", df_puestos.sillas-df_puestos.pasajeros)"
   ]
  },
  {
   "cell_type": "code",
   "execution_count": 34,
   "metadata": {},
   "outputs": [],
   "source": [
    "#Opcional: Eliminar los valores negativos (en los que se sobrevendieron los puestos)\n",
    "#df_puestos= df_puestos.where((df_puestos.puestos_des > 0))"
   ]
  },
  {
   "cell_type": "code",
   "execution_count": 35,
   "metadata": {},
   "outputs": [
    {
     "name": "stdout",
     "output_type": "stream",
     "text": [
      "+-------+------------------+\n",
      "|summary|       puestos_des|\n",
      "+-------+------------------+\n",
      "|  count|              9016|\n",
      "|   mean|128.27118456078082|\n",
      "| stddev| 408.8403629397313|\n",
      "|    min|           -2135.0|\n",
      "|    25%|              -6.0|\n",
      "|    50%|              -1.0|\n",
      "|    75%|              97.0|\n",
      "|    max|            4805.0|\n",
      "+-------+------------------+\n",
      "\n"
     ]
    }
   ],
   "source": [
    "# mostrar numero de registros, promedio, mediana, deviacion standar, minima y maxima\n",
    "df_puestos.select('puestos_des').summary().show()"
   ]
  },
  {
   "cell_type": "code",
   "execution_count": 36,
   "metadata": {},
   "outputs": [
    {
     "name": "stdout",
     "output_type": "stream",
     "text": [
      "+----------------+\n",
      "|sum(puestos_des)|\n",
      "+----------------+\n",
      "|       1156493.0|\n",
      "+----------------+\n",
      "\n"
     ]
    }
   ],
   "source": [
    "# calcular el numero total de puestos desaprovechados\n",
    "df_puestos.agg(functions.sum(\"puestos_des\")).show()"
   ]
  },
  {
   "cell_type": "code",
   "execution_count": 37,
   "metadata": {},
   "outputs": [
    {
     "data": {
      "text/plain": [
       "array([[<AxesSubplot:title={'center':'puestos_des'}>]], dtype=object)"
      ]
     },
     "execution_count": 37,
     "metadata": {},
     "output_type": "execute_result"
    },
    {
     "data": {
      "image/png": "[encoded data removed]",
      "text/plain": [
       "<Figure size 432x288 with 1 Axes>"
      ]
     },
     "metadata": {
      "needs_background": "light"
     },
     "output_type": "display_data"
    }
   ],
   "source": [
    "# Histograma de numero de puestos desaprovechados\n",
    "# transformar a pandas\n",
    "df_puestos_pd= df_puestos.toPandas()\n",
    "df_puestos_pd.hist(column='puestos_des')"
   ]
  },
  {
   "cell_type": "markdown",
   "metadata": {},
   "source": [
    "La presencia de numeros negativos indica vuelos sobrevendidos. La distribucion se ve relativamente normal, y el promedio de puestos desaprovechados idealmente deberia ser cercano a 0, pero en este caso es 128"
   ]
  },
  {
   "cell_type": "markdown",
   "metadata": {},
   "source": [
    "## 5) Visualizar el porcentaje de cobertura Internacional, por rango de fechas, nacional o regional por departamentos de Colombia "
   ]
  },
  {
   "cell_type": "markdown",
   "metadata": {},
   "source": [
    "Esta indicacion es bastante ambigua, pero lo que yo entiendo es por cada departamento, incluyendo todos los tipos de aeropuertos en total, saber que porcentaje de vuelos dentro de cada departamento tienen destino con categoria internacional. No hay informacion acerca de vuelos al exterior. "
   ]
  },
  {
   "cell_type": "code",
   "execution_count": 38,
   "metadata": {},
   "outputs": [],
   "source": [
    "# Filtrar archivo de aeropuertos para mostrar una columna con sigla y el departamento e ignorar la otra informacion (esto lo hago para que al momento de unir tablas no haya un monton de informacion irrelevante y sea mas facil visualizarlas)\n",
    "\n",
    "aeropuertos_departamento = aeropuertos.select(aeropuertos.sigla.alias(\"origen_sigla\"), aeropuertos.departamento.alias(\"origen_departamento\"))\n",
    "\n",
    "# Unir la tabla de vuelos con aeropuertos utilizando la columna \"sigla\" como llave, e incluir nuevas columnas que indiquen el departamento de origen. El archivo de vuelos no indica si los vuelos son internacionales o no o el departamento, y por eso es necesario obtener esta informacion del archivo de aeropuertos. \n",
    "join_vuelos_aeropuertos = join_vuelos_aeropuertos.join(aeropuertos_departamento,join_vuelos_aeropuertos.origen == aeropuertos_departamento.origen_sigla, \"inner\") \n",
    "\n",
    "# Exportar como .csv para utilizar en futuros analisis\n",
    "join_vuelos_aeropuertos.toPandas().to_csv(PATH+'join_vuelos_aeropuertos.csv')"
   ]
  },
  {
   "cell_type": "code",
   "execution_count": 39,
   "metadata": {},
   "outputs": [
    {
     "name": "stdout",
     "output_type": "stream",
     "text": [
      "6045\n",
      "0\n"
     ]
    }
   ],
   "source": [
    "# contar valores \"nan\" y valores nulos\n",
    "print(join_vuelos_aeropuertos.select('vuelos').where(join_vuelos_aeropuertos.vuelos == \"nan\").count())\n",
    "print(join_vuelos_aeropuertos.select('vuelos').where(join_vuelos_aeropuertos.vuelos == \"\").count())"
   ]
  },
  {
   "cell_type": "code",
   "execution_count": 40,
   "metadata": {},
   "outputs": [
    {
     "name": "stdout",
     "output_type": "stream",
     "text": [
      "+-------------------+-----------------+----------+------------------+\n",
      "|origen_departamento|destino_categoria|vuelos_sum|        porcentaje|\n",
      "+-------------------+-----------------+----------+------------------+\n",
      "|       Cundinamarca|         Regional|     256.0| 20.38216560509554|\n",
      "|       Cundinamarca|        Aeródromo|      59.0| 4.697452229299363|\n",
      "|       Cundinamarca|    Internacional|     335.0|26.671974522292995|\n",
      "|       Cundinamarca|         Nacional|     606.0|  48.2484076433121|\n",
      "|          Antioquia|         Regional|      11.0| 3.654485049833887|\n",
      "|          Antioquia|    Internacional|     137.0| 45.51495016611295|\n",
      "|          Antioquia|         Nacional|     153.0| 50.83056478405316|\n",
      "| Norte de Santander|        Aeródromo|     505.0| 0.559798694172551|\n",
      "| Norte de Santander|    Internacional|   86284.0| 95.64687233264236|\n",
      "| Norte de Santander|         Regional|    1873.0| 2.076243473634036|\n",
      "| Norte de Santander|         Nacional|    1549.0|1.7170854995510525|\n",
      "|          Santander|        Aeródromo|     253.0|0.7323144610397129|\n",
      "|          Santander|         Regional|     139.0|0.4023387750376288|\n",
      "|          Santander|         Nacional|    1352.0|  3.91339585504226|\n",
      "|          Santander|    Internacional|   32804.0| 94.95195090888039|\n",
      "|           Casanare|         Regional|      93.0| 0.448235974551764|\n",
      "|           Casanare|         Nacional|    2926.0|14.102564102564102|\n",
      "|           Casanare|    Internacional|   16259.0| 78.36417967996915|\n",
      "|           Casanare|        Aeródromo|    1470.0|  7.08502024291498|\n",
      "|              Huila|         Nacional|    4547.0| 6.645329124283877|\n",
      "+-------------------+-----------------+----------+------------------+\n",
      "only showing top 20 rows\n",
      "\n"
     ]
    }
   ],
   "source": [
    "# Filtrar por rango de fechas (en este caso el ano 2013), excluir valores nulos en la variable \"vuelos\", y transformar a variable numerica (float)\n",
    "# Agrupar por departamentos, y por categoria de destino. Mostrar el total de vuelos que hay de cada uno, y el porcentaje relativo al departamento\n",
    "\n",
    "from pyspark.sql.window import Window\n",
    "\n",
    "dept_int = join_vuelos_aeropuertos.where((join_vuelos_aeropuertos.ano == \"2013\") & (join_vuelos_aeropuertos.vuelos != \"nan\")) \\\n",
    "    .withColumn(\"vuelos\",join_vuelos_aeropuertos[\"vuelos\"].cast(FloatType())) \\\n",
    "    .groupBy(['origen_departamento','destino_categoria']).agg(functions.sum('vuelos').alias('vuelos_sum')) \\\n",
    "    .withColumn('porcentaje', 100.0*functions.col('vuelos_sum')/functions.sum('vuelos_sum').over(Window.partitionBy(\"origen_departamento\"))).show()"
   ]
  },
  {
   "cell_type": "markdown",
   "metadata": {},
   "source": [
    "Aqui ya se indica el porcentaje de cada categoria de destino, y podria visualizarse en una torta. A primera vista es extrano ver que departamentos como Norte de Santander y Santander tengan una mayor cantidad de vuelos internacionales que por ejemplo Cundinamarca y Antioquia. Pero recordemos que en este analisis estamos asumiendo que vuelos internacionales significa un vuelo cuyo destino sea un aeropuerto de categoria \"internacional\". En este orden de ideas si tiene mas logica que vuelos provenientes de regiones pequenas tengan mas vuelos hacia aeopuertos internacionales. "
   ]
  },
  {
   "cell_type": "markdown",
   "metadata": {},
   "source": [
    "## 6) Visualizar el número de pasajeros transportados en un rango de fechas de aeropuertos Nacionales de Colombia "
   ]
  },
  {
   "cell_type": "markdown",
   "metadata": {},
   "source": [
    "Aqui asumimos que son pasajeros transportados **desde** aeropuertos nacionales, y no **hacia** aeropuertos nacionales "
   ]
  },
  {
   "cell_type": "code",
   "execution_count": 41,
   "metadata": {},
   "outputs": [],
   "source": [
    "# filtrar por rango de fechas (2013), y por categoria de aeropuerto nacional\n",
    "pas_nac = join_vuelos_aeropuertos.where((join_vuelos_aeropuertos.ano == \"2013\") & (join_vuelos_aeropuertos.origen_categoria == \"Nacional\"))"
   ]
  },
  {
   "cell_type": "code",
   "execution_count": 58,
   "metadata": {},
   "outputs": [
    {
     "name": "stdout",
     "output_type": "stream",
     "text": [
      "0\n",
      "0\n"
     ]
    }
   ],
   "source": [
    "# contar valores \"nan\" y valores nulos\n",
    "print(pas_nac.select('pasajeros').where(pas_nac.pasajeros == \"nan\").count())\n",
    "print(pas_nac.select('pasajeros').where(pas_nac.pasajeros == \"\").count())"
   ]
  },
  {
   "cell_type": "markdown",
   "metadata": {},
   "source": [
    "Confirmamos que, al igual que la categoria de aeropuertos internacionales, los aeropuertos nacionales tampoco tienen datos faltantes o nulos"
   ]
  },
  {
   "cell_type": "code",
   "execution_count": 42,
   "metadata": {},
   "outputs": [
    {
     "name": "stdout",
     "output_type": "stream",
     "text": [
      "+-------+-----------------+\n",
      "|summary|        pasajeros|\n",
      "+-------+-----------------+\n",
      "|  count|            16196|\n",
      "|   mean|428.1609039268955|\n",
      "| stddev|1139.374515057485|\n",
      "|    min|              0.0|\n",
      "|    25%|              2.0|\n",
      "|    50%|              8.0|\n",
      "|    75%|            166.0|\n",
      "|    max|          12240.0|\n",
      "+-------+-----------------+\n",
      "\n"
     ]
    }
   ],
   "source": [
    "# Eliminar \"nan\" y transformar \"pasajeros\" a float\n",
    "pas_nac= pas_nac.where(df_filter.pasajeros != 'nan') \\\n",
    "    .withColumn(\"pasajeros\",df_filter[\"pasajeros\"].cast(FloatType()))\n",
    "# mostrar numero de registros, promedio, mediana, deviacion standar, minima y maxima\n",
    "pas_nac.select('pasajeros').summary().show()"
   ]
  },
  {
   "cell_type": "code",
   "execution_count": 43,
   "metadata": {},
   "outputs": [
    {
     "name": "stdout",
     "output_type": "stream",
     "text": [
      "+--------------+\n",
      "|sum(pasajeros)|\n",
      "+--------------+\n",
      "|     6934494.0|\n",
      "+--------------+\n",
      "\n"
     ]
    }
   ],
   "source": [
    "# calcular el numero total de pasajeros transportados\n",
    "pas_nac.agg(functions.sum(\"pasajeros\")).show()"
   ]
  },
  {
   "cell_type": "code",
   "execution_count": 44,
   "metadata": {},
   "outputs": [
    {
     "data": {
      "text/plain": [
       "array([[<AxesSubplot:title={'center':'pasajeros'}>]], dtype=object)"
      ]
     },
     "execution_count": 44,
     "metadata": {},
     "output_type": "execute_result"
    },
    {
     "data": {
      "image/png": "[encoded data removed]",
      "text/plain": [
       "<Figure size 432x288 with 1 Axes>"
      ]
     },
     "metadata": {
      "needs_background": "light"
     },
     "output_type": "display_data"
    }
   ],
   "source": [
    "# Histograma de numero de pasajeros transportados\n",
    "# transformar a pandas\n",
    "pas_nac_pd= pas_nac.toPandas()\n",
    "pas_nac_pd.hist(column='pasajeros')"
   ]
  },
  {
   "cell_type": "markdown",
   "metadata": {},
   "source": [
    "## 7) Visualizar la carga transportada en un rango de fechas de aeropuertos Nacionales de Colombia"
   ]
  },
  {
   "cell_type": "code",
   "execution_count": 60,
   "metadata": {},
   "outputs": [],
   "source": [
    "# filtrar por rango de fechas (2013), y por categoria de aeropuerto nacional origen\n",
    "carga_nac = join_vuelos_aeropuertos.where((join_vuelos_aeropuertos.ano == \"2013\") & (join_vuelos_aeropuertos.origen_categoria == \"Nacional\"))"
   ]
  },
  {
   "cell_type": "code",
   "execution_count": 62,
   "metadata": {},
   "outputs": [
    {
     "name": "stdout",
     "output_type": "stream",
     "text": [
      "0\n",
      "0\n"
     ]
    }
   ],
   "source": [
    "# contar valores \"nan\" y valores nulos\n",
    "print(carga_nac.select('carga_bordo').where(carga_nac.carga_bordo == \"nan\").count())\n",
    "print(carga_nac.select('carga_bordo').where(carga_nac.carga_bordo == \"\").count())"
   ]
  },
  {
   "cell_type": "markdown",
   "metadata": {},
   "source": [
    "Anteriormente ya habiamos confirmado que la variable \"carga_bordo\" no tiene valores nulos ni nan, y es de tipo double, igual para aeropuertos internacionales y nacionales"
   ]
  },
  {
   "cell_type": "code",
   "execution_count": 46,
   "metadata": {},
   "outputs": [
    {
     "name": "stdout",
     "output_type": "stream",
     "text": [
      "+-------+------------------+\n",
      "|summary|       carga_bordo|\n",
      "+-------+------------------+\n",
      "|  count|             17252|\n",
      "|   mean|1302.8763725944802|\n",
      "| stddev| 5179.983590089131|\n",
      "|    min|               0.0|\n",
      "|    25%|               0.0|\n",
      "|    50%|              80.0|\n",
      "|    75%|             679.0|\n",
      "|    max|213202.08000000002|\n",
      "+-------+------------------+\n",
      "\n"
     ]
    }
   ],
   "source": [
    "# mostrar numero de registros, promedio, mediana, deviacion standar, minima y maxima\n",
    "carga_nac.select('carga_bordo').summary().show()"
   ]
  },
  {
   "cell_type": "code",
   "execution_count": 47,
   "metadata": {},
   "outputs": [
    {
     "name": "stdout",
     "output_type": "stream",
     "text": [
      "+--------------------+\n",
      "|    sum(carga_bordo)|\n",
      "+--------------------+\n",
      "|2.2477223179999974E7|\n",
      "+--------------------+\n",
      "\n"
     ]
    }
   ],
   "source": [
    "# calcular el numero total de carga a bordo\n",
    "carga_nac.agg(functions.sum(\"carga_bordo\")).show()"
   ]
  },
  {
   "cell_type": "code",
   "execution_count": 48,
   "metadata": {},
   "outputs": [
    {
     "data": {
      "text/plain": [
       "array([[<AxesSubplot:title={'center':'carga_bordo'}>]], dtype=object)"
      ]
     },
     "execution_count": 48,
     "metadata": {},
     "output_type": "execute_result"
    },
    {
     "data": {
      "image/png": "[encoded data removed]",
      "text/plain": [
       "<Figure size 432x288 with 1 Axes>"
      ]
     },
     "metadata": {
      "needs_background": "light"
     },
     "output_type": "display_data"
    }
   ],
   "source": [
    "# Histograma de numero de carga a bordo\n",
    "# transformar a pandas\n",
    "carga_nac_pd= carga_nac.toPandas()\n",
    "carga_nac_pd.hist(column='carga_bordo')"
   ]
  },
  {
   "cell_type": "markdown",
   "metadata": {},
   "source": [
    "En este caso tambien es extrano ver valores \"outliers\" hacia la derecha, valores muy altos comparados con la media que estan sesgando la distribucion. Toca revisar si estos valores son correctos. "
   ]
  },
  {
   "cell_type": "markdown",
   "metadata": {},
   "source": [
    "## 8) Visualizar la cantidad de pasajeros salientes y entrantes a través del tiempo por departamentos de Colombia "
   ]
  },
  {
   "cell_type": "markdown",
   "metadata": {},
   "source": [
    "No existe informacion sobre pasajeros entrantes (estamos asumiendo que todos son salientes)"
   ]
  },
  {
   "cell_type": "markdown",
   "metadata": {},
   "source": [
    "## 9) Visualizar la cantidad de carga aérea saliente y entrante a través del tiempo por departamentos de Colombia "
   ]
  },
  {
   "cell_type": "markdown",
   "metadata": {},
   "source": [
    "No existe informacion sobre carga entrante (se asume que toda es saliente)"
   ]
  },
  {
   "cell_type": "markdown",
   "metadata": {},
   "source": [
    "## 10) Visualizar la relación entre las características de infraestructura de cada aeropuerto y el número de vuelos "
   ]
  },
  {
   "cell_type": "markdown",
   "metadata": {},
   "source": [
    "\"infraestructura\" es algo ambiguo, ya que puede representar diferentes caracteristicas de cada aeropuerto. En este caso como ejemplo vamos a tomar la longitud de la pista. "
   ]
  },
  {
   "cell_type": "code",
   "execution_count": 49,
   "metadata": {},
   "outputs": [
    {
     "name": "stdout",
     "output_type": "stream",
     "text": [
      "+-----+-----+\n",
      "|sigla|count|\n",
      "+-----+-----+\n",
      "|  CUC|    2|\n",
      "+-----+-----+\n",
      "\n"
     ]
    }
   ],
   "source": [
    "# Lo primero es inspeccionar si los aeropuertos tienen mas de una longitud de pista, ya que es posible que hayan multiples pistas, y en este caso el analisis no podria hacerse. \n",
    "# Transformar longitud_pista de numerico a string\n",
    "from pyspark.sql.types import StringType\n",
    "aer_pista= aeropuertos.withColumn(\"longitud_pista\",aeropuertos[\"longitud_pista\"].cast(StringType())) \\\n",
    "    .select(\"sigla\", \"longitud_pista\").distinct()\n",
    "# Filtrar por aeropuertos que tengan mas de una categoria de longitud de pista\n",
    "aer_pista.groupBy(\"sigla\").agg(functions.count('sigla').alias('count')).where(\"count > 1\").show()"
   ]
  },
  {
   "cell_type": "markdown",
   "metadata": {},
   "source": [
    "En este caso se puede ver que el aeropuerto CUC tiene mas de una longitud de pista, por lo cual se excluira de futuros analisis. "
   ]
  },
  {
   "cell_type": "code",
   "execution_count": 50,
   "metadata": {},
   "outputs": [],
   "source": [
    "aer_pista = aer_pista.where((aer_pista.sigla != \"CUC\")) \n",
    "# tambien es posible hacerlo generico, donde no se excluye especificamente este aeropuerto, sino cualquier aeropuerto con mas de una longitud de pista"
   ]
  },
  {
   "cell_type": "code",
   "execution_count": 51,
   "metadata": {},
   "outputs": [],
   "source": [
    "# Filtrar archivo de aeropuertos para mostrar una columna con sigla y la longitud de pista e ignorar la otra informacion (esto lo hago para que al momento de unir tablas no haya un monton de informacion irrelevante y sea mas facil visualizarlas)\n",
    "\n",
    "aeropuertos_pista = aer_pista.select(aer_pista.sigla.alias(\"origen_sigla\"), aer_pista.longitud_pista.alias(\"origen_pista\"))\n",
    "\n",
    "# Unir la tabla de vuelos con aeropuertos utilizando la columna \"sigla\" como llave, e incluir nuevas columnas que indiquen la longitud de la pista del aeropuerto de origen. El archivo de vuelos no indica las caracteristicas de infraestructura del aeropuerto de origen, y por eso es necesario obtener esta informacion del archivo de aeropuertos. \n",
    "join_vuelos_aeropuertos_pista = join_vuelos_aeropuertos.join(aeropuertos_pista,join_vuelos_aeropuertos.origen == aeropuertos_pista.origen_sigla, \"inner\") \n",
    "\n",
    "# Exportar como .csv para utilizar en futuros analisis\n",
    "join_vuelos_aeropuertos_pista.toPandas().to_csv(PATH+'join_vuelos_aeropuertos_pista.csv')"
   ]
  },
  {
   "cell_type": "code",
   "execution_count": 52,
   "metadata": {},
   "outputs": [
    {
     "name": "stdout",
     "output_type": "stream",
     "text": [
      "+------+------------+----------+\n",
      "|origen|origen_pista|vuelos_sum|\n",
      "+------+------------+----------+\n",
      "|   A01|       450.0|      31.0|\n",
      "|   BMG|       900.0|    4652.0|\n",
      "|   PIP|      1700.0|     340.0|\n",
      "|   MMP|      1175.0|     329.0|\n",
      "|   9CE|       884.0|      17.0|\n",
      "|   IGO|       840.0|       8.0|\n",
      "|   9BW|      1200.0|      59.0|\n",
      "|   SVI|      1500.0|    3389.0|\n",
      "|   7NR|       550.0|       2.0|\n",
      "|   7NT|      1200.0|    2450.0|\n",
      "|   CLO|      3000.0|  186665.0|\n",
      "|   7HG|      1000.0|     623.0|\n",
      "|   9CG|       570.0|     504.0|\n",
      "|   BOG|      3800.0| 2332396.0|\n",
      "|   9AB|       800.0|     128.0|\n",
      "|   9DI|      1100.0|      21.0|\n",
      "|   ELB|      1225.0|     872.0|\n",
      "|   9MW|      1000.0|       4.0|\n",
      "|   PTL|      1500.0|    1363.0|\n",
      "|   PTW|       850.0|      24.0|\n",
      "+------+------------+----------+\n",
      "only showing top 20 rows\n",
      "\n"
     ]
    }
   ],
   "source": [
    "# Eliminar valores nulos y nan de la categoria vuelos\n",
    "# Ver los largos de pista y el numero de vuelos por aeropuerto\n",
    "\n",
    "from pyspark.sql.window import Window\n",
    "\n",
    "pista_aer = join_vuelos_aeropuertos_pista.where((join_vuelos_aeropuertos_pista.vuelos != \"nan\")) \\\n",
    "    .withColumn(\"vuelos\",join_vuelos_aeropuertos_pista[\"vuelos\"].cast(FloatType())) \\\n",
    "    .withColumn(\"origen_pista\",join_vuelos_aeropuertos_pista[\"origen_pista\"].cast(FloatType())) \\\n",
    "    .groupBy(['origen', 'origen_pista']).agg(functions.sum('vuelos').alias('vuelos_sum'))\n",
    "pista_aer.show()\n"
   ]
  },
  {
   "cell_type": "markdown",
   "metadata": {},
   "source": [
    "Con esta tabla ya es posible visualizar a traves de una grafica \"scatterdot\" (por ejemplo en Power BI) si se ve alguna relacion entre el largo de la pista, y el numero de vuelos"
   ]
  },
  {
   "cell_type": "markdown",
   "metadata": {},
   "source": [
    "# Parte 3: informacion adicional"
   ]
  },
  {
   "cell_type": "markdown",
   "metadata": {},
   "source": [
    "**Supuestos**: el radio de cobertura es de 40Km. En caso de tener múltiples coberturas, se utiliza la jerarquía de categoría de cobertura para seleccionar la de mayor categoría. La jerarquía se entiende como Internacional es la de mayor categoría y cubre las demás categorías. En el caso de Nacional, incluye nacional, regional y local, en el caso de Regional solo cubre los vuelos regionales y locales. "
   ]
  },
  {
   "cell_type": "markdown",
   "metadata": {},
   "source": [
    "**Respuesta**: Para mi no es claro cual es la relacion entre la cobertura de 40 kms y los otros analisis que se preguntan"
   ]
  }
 ],
 "metadata": {
  "interpreter": {
   "hash": "d18f8583b9ba289f94cb2f7795cca7989af9744a611577d22144ae84ebc817d0"
  },
  "kernelspec": {
   "display_name": "Python 3.9.7 64-bit ('data_ETL': conda)",
   "name": "python3"
  },
  "language_info": {
   "codemirror_mode": {
    "name": "ipython",
    "version": 3
   },
   "file_extension": ".py",
   "mimetype": "text/x-python",
   "name": "python",
   "nbconvert_exporter": "python",
   "pygments_lexer": "ipython3",
   "version": "3.9.7"
  },
  "orig_nbformat": 4
 },
 "nbformat": 4,
 "nbformat_minor": 2
}
